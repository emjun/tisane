{
 "cells": [
  {
   "cell_type": "markdown",
   "id": "91ffe729",
   "metadata": {},
   "source": [
    "# Example from Cohen, Cohen, West, Aiken 2003. \n",
    "\n",
    "**Background, from Cohen et al. 2003**: We assume that the data have been collected\n",
    "from intact women's groups that have a focus on diet and weight control; the\n",
    "groups meet regularly to discuss diet and weight control, and have some level of\n",
    "cohesion. We may thus expect some correlation among the women within a group `j`\n",
    "in both their *motivation to lose weight* and *weight loss success*. \n",
    "\n",
    "There are a **total of 386 women** in all distributed across the **40 groups**. Group\n",
    "size ranges from 5 to 15 women. There is **substantial clustering in the data**,\n",
    "reflected in the fact that the groups differe substantially in mean pounds of\n",
    "weight lost, from a low mean of 9.75 points lost to a high mean of 24.43 pounds\n",
    "lost. "
   ]
  },
  {
   "cell_type": "code",
   "execution_count": 1,
   "id": "1e618c40",
   "metadata": {},
   "outputs": [],
   "source": [
    "import tisane as ts\n",
    "\n",
    "import pandas as pd\n",
    "import numpy as np\n",
    "import os"
   ]
  },
  {
   "cell_type": "markdown",
   "id": "43d68a48",
   "metadata": {},
   "source": [
    "## Load the data"
   ]
  },
  {
   "cell_type": "code",
   "execution_count": 2,
   "id": "215d6a89",
   "metadata": {},
   "outputs": [],
   "source": [
    "df = pd.read_csv(\"exercise_group.csv\")"
   ]
  },
  {
   "cell_type": "markdown",
   "id": "090fb76d",
   "metadata": {},
   "source": [
    "## Create observed variables"
   ]
  },
  {
   "cell_type": "code",
   "execution_count": 3,
   "id": "c5a79d62",
   "metadata": {},
   "outputs": [],
   "source": [
    "# 386 adults\n",
    "adult = ts.Unit(\"member\", cardinality=386)  \n",
    "\n",
    "# Each adult has a value for motivation, which is ordinal\n",
    "motivation_level = adult.ordinal(\"motivation\",\n",
    "                                 order=[1, 2, 3, 4, 5, 6])\n",
    "pounds_lost = adult.numeric(\"pounds_lost\")\n",
    "\n",
    "# 40 groups\n",
    "group = ts.Unit(\"group\", cardinality=40)\n"
   ]
  },
  {
   "cell_type": "markdown",
   "id": "90533320",
   "metadata": {},
   "source": [
    "Each group has one of two approaches to weight loss they promote\n",
    "\n",
    "_Note: By default, `number_of_instances` is `1`. The parameter value is explicitly set below for clarity._\n",
    "\n",
    "The cardinality of `treatment_approach` is `2` because there are two approaches to weight loss in this study design:\n",
    "\n",
    "1. Control\n",
    "2. Treatment"
   ]
  },
  {
   "cell_type": "code",
   "execution_count": 4,
   "id": "d8947df3",
   "metadata": {},
   "outputs": [],
   "source": [
    "treatment_approach = group.nominal(\"treatment\",\n",
    "                                   cardinality=2,\n",
    "                                   number_of_instances=1)"
   ]
  },
  {
   "cell_type": "markdown",
   "id": "647ea2e4",
   "metadata": {},
   "source": [
    "### Now, we add conceptual and data measurement relationships\n",
    "\n",
    "One of the research questions behind the study was to see if there's any difference between the two treatments in the effect on weight loss. Therefore, we add a `causes` relationship, so that the treatment _causes_ weight loss.\n",
    "\n",
    "Recall that we suspect that `motivation_level` is **associated with** weight loss, `pounds_lost`. We can do this using the `associates_with` method.\n",
    "\n",
    "We also want to express that the participants in the study are organized as a part of groups. We can do this using the `nests_within` method."
   ]
  },
  {
   "cell_type": "code",
   "execution_count": 5,
   "id": "fae087ac",
   "metadata": {},
   "outputs": [],
   "source": [
    "# Conceptual relationships between the observed variables\n",
    "treatment_approach.causes(pounds_lost)\n",
    "motivation_level.associates_with(pounds_lost)\n",
    "\n",
    "# Data measurement relationships\n",
    "# Declare nesting relationship\n",
    "adult.nests_within(group)  # Members are part of groups"
   ]
  },
  {
   "cell_type": "markdown",
   "id": "5104b14e",
   "metadata": {},
   "source": [
    "### Put the study design together\n"
   ]
  },
  {
   "cell_type": "code",
   "execution_count": 6,
   "id": "96ed06e9",
   "metadata": {},
   "outputs": [
    {
     "name": "stdout",
     "output_type": "stream",
     "text": [
      "adding relationship <class 'tisane.variable.Has'>\n",
      "Adding\n",
      "adding relationship <class 'tisane.variable.Causes'>\n",
      "Adding\n",
      "adding relationship <class 'tisane.variable.Associates'>\n",
      "Adding\n",
      "adding relationship <class 'tisane.variable.Has'>\n",
      "Adding\n",
      "adding relationship <class 'tisane.variable.Causes'>\n",
      "Adding\n",
      "adding relationship <class 'tisane.variable.Has'>\n",
      "Adding\n",
      "adding relationship <class 'tisane.variable.Associates'>\n",
      "Adding\n",
      "adding relationship <class 'tisane.variable.Nests'>\n",
      "Adding\n",
      "adding relationship <class 'tisane.variable.Nests'>\n",
      "Adding\n"
     ]
    }
   ],
   "source": [
    "design = (ts\n",
    "          .Design(dv=pounds_lost, ivs=[treatment_approach, motivation_level])\n",
    "          .assign_data(df))"
   ]
  },
  {
   "cell_type": "markdown",
   "id": "e855d9e5",
   "metadata": {},
   "source": [
    "## Query Tisane to infer a statistical model\n",
    "\n",
    "This launches a GUI in the cell's output that will generate a script called `model.py`"
   ]
  },
  {
   "cell_type": "code",
   "execution_count": 7,
   "id": "449637dc",
   "metadata": {},
   "outputs": [
    {
     "data": {
      "text/html": [
       "\n",
       "        <iframe\n",
       "            width=\"100%\"\n",
       "            height=\"650\"\n",
       "            src=\"http://127.0.0.1:60252/\"\n",
       "            frameborder=\"0\"\n",
       "            allowfullscreen\n",
       "        ></iframe>\n",
       "        "
      ],
      "text/plain": [
       "<IPython.lib.display.IFrame at 0x7f9e0fde03a0>"
      ]
     },
     "metadata": {},
     "output_type": "display_data"
    }
   ],
   "source": [
    "ts.infer_statistical_model_from_design(design=design, jupyter=True)"
   ]
  },
  {
   "cell_type": "markdown",
   "id": "a3e8217d",
   "metadata": {},
   "source": [
    "## After generating code on the fourth tab of the GUI\n",
    "\n",
    "There should be a file called `model.py` in this folder! You can import it:"
   ]
  },
  {
   "cell_type": "code",
   "execution_count": 8,
   "id": "46e45db7",
   "metadata": {},
   "outputs": [],
   "source": [
    "import model"
   ]
  },
  {
   "cell_type": "markdown",
   "id": "8ec3c3ae",
   "metadata": {},
   "source": [
    "Note that if you re-generate the model in the GUI, you will need to restart the Jupyter kernel."
   ]
  },
  {
   "cell_type": "markdown",
   "id": "62711e77",
   "metadata": {},
   "source": [
    "## Fitting the model\n",
    "\n",
    "The function `model.fit_model` returns the fitted model, and also outputs the result of the model fit."
   ]
  },
  {
   "cell_type": "code",
   "execution_count": 9,
   "id": "7da0a79c",
   "metadata": {},
   "outputs": [
    {
     "name": "stdout",
     "output_type": "stream",
     "text": [
      "Formula: pounds_lost~motivation+treatment+(1|group)\n",
      "\n",
      "Family: poisson\t Inference: parametric\n",
      "\n",
      "Number of observations: 386\t Groups: {'group': 40.0}\n",
      "\n",
      "Log-likelihood: -999.329 \t AIC: 2006.658\n",
      "\n",
      "Random effects:\n",
      "\n",
      "              Name    Var    Std\n",
      "group  (Intercept)  0.004  0.065\n",
      "\n",
      "No random effect correlations specified\n",
      "\n",
      "Fixed effects:\n",
      "\n",
      "             Estimate  2.5_ci  97.5_ci     SE  Z-stat  P-val  Sig\n",
      "(Intercept)     1.864   1.750    1.978  0.058  32.120  0.000  ***\n",
      "motivation      0.219   0.192    0.245  0.014  16.187  0.000  ***\n",
      "treatment       0.106   0.038    0.174  0.035   3.057  0.002   **\n"
     ]
    }
   ],
   "source": [
    "m = model.fit_model()"
   ]
  },
  {
   "cell_type": "markdown",
   "id": "49dc2ef0",
   "metadata": {},
   "source": [
    "## Show a residual plot\n",
    "\n",
    "To show a residual plot, use the function `model.show_model_diagnostics(m)`"
   ]
  },
  {
   "cell_type": "code",
   "execution_count": 10,
   "id": "eed3d38a",
   "metadata": {},
   "outputs": [
    {
     "data": {
      "image/png": "[encoded data removed]",
      "text/plain": [
       "<Figure size 432x288 with 1 Axes>"
      ]
     },
     "metadata": {
      "needs_background": "light"
     },
     "output_type": "display_data"
    }
   ],
   "source": [
    "model.show_model_diagnostics(m)"
   ]
  },
  {
   "cell_type": "code",
   "execution_count": null,
   "id": "d2390fba",
   "metadata": {},
   "outputs": [],
   "source": []
  }
 ],
 "metadata": {
  "kernelspec": {
   "display_name": "Python 3 (ipykernel)",
   "language": "python",
   "name": "python3"
  },
  "language_info": {
   "codemirror_mode": {
    "name": "ipython",
    "version": 3
   },
   "file_extension": ".py",
   "mimetype": "text/x-python",
   "name": "python",
   "nbconvert_exporter": "python",
   "pygments_lexer": "ipython3",
   "version": "3.8.12"
  }
 },
 "nbformat": 4,
 "nbformat_minor": 5
}
